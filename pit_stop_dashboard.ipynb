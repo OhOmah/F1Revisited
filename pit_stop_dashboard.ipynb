{
 "cells": [
  {
   "cell_type": "markdown",
   "metadata": {},
   "source": [
    "## PURPOSE OF THIS NOTEBOOK: \n",
    "This notebook serves as the initial analysis to see which visualizations would work best for the pitstop dashboard. I want this dashboard to:\n",
    "1. Allow a user to pick a driver/race\n",
    "2. Result in a dashboard showcasing their pace over a race stint compared to other drivers/teammate (default to teammate if another driver was not picked)\n",
    "3. Share pitstop time, compare to average pitstop time over the season (or over the race, need to think and evaluate the strengths and weaknessess of each)\n",
    "4. Show potential finishing place if pitstop was within the average time vs. if it was the fastest time \n",
    "5. Show potential finishing place if they changed strategy (i.e. 1 stop vs 2 stop vs 3 stop)\n"
   ]
  },
  {
   "cell_type": "code",
   "execution_count": null,
   "metadata": {},
   "outputs": [],
   "source": []
  },
  {
   "cell_type": "markdown",
   "metadata": {},
   "source": [
    "### Data I NEED for driver comparison\n",
    "1. driverId\n",
    "2. pitstop times \n",
    "3. average pitstop times overall a season\n",
    "4. lap times for each driver throughout a race \n",
    "5. marks for in and out laps\n",
    "6. \n",
    "\n",
    "### Data I NEED for race pace \n",
    "1. pitstop times, averaged down to each race\n",
    "2. count of how many stops were done\n",
    "3. count of each strategy \n",
    "4. \n",
    "\n",
    "## Questions\n",
    "1. Should I use average lap times or predicted laptimes based on tire life percentage (maybe use F1 tire life data from the games to simulate tire drop off.)\n",
    "2. is it worth the extra effort to simulate tire life? \n",
    "3."
   ]
  },
  {
   "cell_type": "code",
   "execution_count": null,
   "metadata": {},
   "outputs": [],
   "source": []
  }
 ],
 "metadata": {
  "language_info": {
   "name": "python"
  }
 },
 "nbformat": 4,
 "nbformat_minor": 2
}
